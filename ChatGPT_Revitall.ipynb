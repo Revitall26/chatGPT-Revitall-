{
  "nbformat": 4,
  "nbformat_minor": 0,
  "metadata": {
    "colab": {
      "provenance": []
    },
    "kernelspec": {
      "name": "python3",
      "display_name": "Python 3"
    },
    "language_info": {
      "name": "python"
    }
  },
  "cells": [
    {
      "cell_type": "code",
      "execution_count": null,
      "metadata": {
        "id": "cwzlnF4yCrJ5"
      },
      "outputs": [],
      "source": [
        "!pip install openai\n",
        "import openai\n",
        "apikey=\"your key\"\n",
        "openai.api_key=apikey\n",
        "\n",
        "soal=\"gimme one cout from your brain\"\n",
        "\n",
        "robot = openai.Completion.create(\n",
        "    engine=\"text-davinci-003\",\n",
        "    prompt = soal,\n",
        "    max_tokens=1024,\n",
        "    n=1,\n",
        "    stop=None,\n",
        "    temperature=0.9\n",
        ")\n",
        "\n",
        "javab = robot.choices[0].text\n",
        "\n",
        "print(javab)"
      ]
    }
  ]
}